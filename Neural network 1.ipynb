{
 "cells": [
  {
   "cell_type": "code",
   "execution_count": 1,
   "metadata": {},
   "outputs": [],
   "source": [
    "import torch\n",
    "import torch.nn as nn\n",
    "import torch.nn.functional as F\n",
    "from torch.optim import SGD"
   ]
  },
  {
   "cell_type": "code",
   "execution_count": 2,
   "metadata": {},
   "outputs": [],
   "source": [
    "import matplotlib.pyplot as plt\n",
    "import seaborn as sns"
   ]
  },
  {
   "cell_type": "code",
   "execution_count": 3,
   "metadata": {},
   "outputs": [],
   "source": [
    "class BasicNN(nn.Module):\n",
    "  def __init__(self):\n",
    "    super().__init__()\n",
    "    self.w00 = nn.Parameter(torch.tensor(1.7), requires_grad=False)\n",
    "    self.w01 = nn.Parameter(torch.tensor(-40.8), requires_grad=False)\n",
    "    self.w10 = nn.Parameter(torch.tensor(12.6), requires_grad=False)\n",
    "    self.w11 = nn.Parameter(torch.tensor(2.7), requires_grad=False)\n",
    "    self.b00 = nn.Parameter(torch.tensor(-0.85), requires_grad = False)\n",
    "    self.b10 = nn.Parameter(torch.tensor(0.0), requires_grad = False)\n",
    "    self.final_bias = nn.Parameter(torch.tensor(0.0), requires_grad = True)\n",
    "  def forward(self, input): \n",
    "    input_to_top_relu = input*self.w00 + self.b00\n",
    "    input_to_bottom_relu = input*self.w10 + self.b10\n",
    "    top_relu_output = F.relu(input_to_top_relu)\n",
    "    bottom_relu_output = F.relu(input_to_bottom_relu)\n",
    "    scaled_top_relu_output = top_relu_output * self.w01\n",
    "    scaled_bottom_relu_output = bottom_relu_output * self.w11\n",
    "    input_to_final_relu = scaled_top_relu_output + scaled_bottom_relu_output + self.final_bias\n",
    "\n",
    "    output = F.relu(input_to_final_relu)\n",
    "    return output"
   ]
  },
  {
   "cell_type": "code",
   "execution_count": 4,
   "metadata": {},
   "outputs": [],
   "source": [
    "input_doses = torch.linspace(start=0, end=1, steps=11)"
   ]
  },
  {
   "cell_type": "code",
   "execution_count": 5,
   "metadata": {},
   "outputs": [],
   "source": [
    "model = BasicNN()\n",
    "output_values = model(input_doses)"
   ]
  },
  {
   "cell_type": "code",
   "execution_count": 6,
   "metadata": {},
   "outputs": [],
   "source": [
    "# sns.set(style=\"whitegrid\")\n",
    "# sns.lineplot(x=input_doses, \n",
    "#              y=output_values,\n",
    "#              color = 'green',\n",
    "#              linewidth = 2.5)\n",
    "# plt.xlabel('Dose')\n",
    "# plt.ylabel('Effectiveness')"
   ]
  },
  {
   "cell_type": "markdown",
   "metadata": {},
   "source": [
    "Now let's consider that we do not have the value for final_bias. Therefore we use Stoachastic Gradient Descent to find it."
   ]
  },
  {
   "cell_type": "code",
   "execution_count": 7,
   "metadata": {},
   "outputs": [],
   "source": [
    "inputs = torch.tensor([0.0, 0.5, 1.0])\n",
    "labels = torch.tensor([0., 1., 0.])"
   ]
  },
  {
   "cell_type": "code",
   "execution_count": 8,
   "metadata": {},
   "outputs": [
    {
     "name": "stdout",
     "output_type": "stream",
     "text": [
      "Final bias, before optimization tensor(0.)\n",
      "\n",
      "Step:0Final bias:tensor(-3.2020)\n",
      "\n",
      "Step:1Final bias:tensor(-5.7636)\n",
      "\n",
      "Step:2Final bias:tensor(-7.8129)\n",
      "\n",
      "Step:3Final bias:tensor(-9.4523)\n",
      "\n",
      "Step:4Final bias:tensor(-10.7638)\n",
      "\n",
      "Step:5Final bias:tensor(-11.8131)\n",
      "\n",
      "Step:6Final bias:tensor(-12.6525)\n",
      "\n",
      "Step:7Final bias:tensor(-13.3240)\n",
      "\n",
      "Step:8Final bias:tensor(-13.8612)\n",
      "\n",
      "Step:9Final bias:tensor(-14.2909)\n",
      "\n",
      "Step:10Final bias:tensor(-14.6348)\n",
      "\n",
      "Step:11Final bias:tensor(-14.9098)\n",
      "\n",
      "Step:12Final bias:tensor(-15.1298)\n",
      "\n",
      "Step:13Final bias:tensor(-15.3059)\n",
      "\n",
      "Step:14Final bias:tensor(-15.4467)\n",
      "\n",
      "Step:15Final bias:tensor(-15.5594)\n",
      "\n",
      "Step:16Final bias:tensor(-15.6495)\n",
      "\n",
      "Step:17Final bias:tensor(-15.7216)\n",
      "\n",
      "Step:18Final bias:tensor(-15.7793)\n",
      "\n",
      "Step:19Final bias:tensor(-15.8254)\n",
      "\n",
      "Step:20Final bias:tensor(-15.8623)\n",
      "\n",
      "Step:21Final bias:tensor(-15.8919)\n",
      "\n",
      "Step:22Final bias:tensor(-15.9155)\n",
      "\n",
      "Step:23Final bias:tensor(-15.9344)\n",
      "\n",
      "Step:24Final bias:tensor(-15.9495)\n",
      "\n",
      "Step:25Final bias:tensor(-15.9616)\n",
      "\n",
      "Step:26Final bias:tensor(-15.9713)\n",
      "\n",
      "Step:27Final bias:tensor(-15.9790)\n",
      "\n",
      "Step:28Final bias:tensor(-15.9852)\n",
      "\n",
      "Step:29Final bias:tensor(-15.9902)\n",
      "\n",
      "Step:30Final bias:tensor(-15.9941)\n",
      "\n",
      "Step:31Final bias:tensor(-15.9973)\n",
      "\n",
      "Step:32Final bias:tensor(-15.9999)\n",
      "\n",
      "Step:33Final bias:tensor(-16.0019)\n",
      "\n",
      "Num steps:34\n",
      "Final bias, after optimization:tensor(-16.0019)\n"
     ]
    }
   ],
   "source": [
    "optimizer = SGD(model.parameters(), lr=0.1)\n",
    "print(\"Final bias, before optimization \" + str(model.final_bias.data)+ \"\\n\")\n",
    "for epoch in range(100):\n",
    "  total_loss = 0\n",
    "  for iteration in range(len(inputs)):\n",
    "    input_i = inputs[iteration]\n",
    "    label_i = labels[iteration]\n",
    "    output_i = model(input_i)\n",
    "    loss = (output_i - label_i)**2\n",
    "    loss.backward()\n",
    "    total_loss += float(loss);\n",
    "  if(total_loss < 0.0001):\n",
    "    print(\"Num steps:\" + str(epoch))\n",
    "    break;\n",
    "  optimizer.step()\n",
    "  optimizer.zero_grad()\n",
    "  print(\"Step:\"+str(epoch) + \"Final bias:\"+str(model.final_bias.data)+ \"\\n\");\n",
    "print(\"Final bias, after optimization:\"+ str(model.final_bias.data));"
   ]
  }
 ],
 "metadata": {
  "kernelspec": {
   "display_name": "Python 3 (ipykernel)",
   "language": "python",
   "name": "python3"
  },
  "language_info": {
   "codemirror_mode": {
    "name": "ipython",
    "version": 3
   },
   "file_extension": ".py",
   "mimetype": "text/x-python",
   "name": "python",
   "nbconvert_exporter": "python",
   "pygments_lexer": "ipython3",
   "version": "3.12.4"
  }
 },
 "nbformat": 4,
 "nbformat_minor": 4
}
